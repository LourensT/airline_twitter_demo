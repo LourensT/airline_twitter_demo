{
 "cells": [
  {
   "cell_type": "code",
   "execution_count": 1,
   "metadata": {},
   "outputs": [
    {
     "name": "stderr",
     "output_type": "stream",
     "text": [
      "Using TensorFlow backend.\n"
     ]
    }
   ],
   "source": [
    "import sys\n",
    "import os\n",
    "sys.path.append(\"..\")\n",
    "\n",
    "from unzipper import Unzipper\n",
    "from data_extractor import DataExtractor\n",
    "from data_wrangler import DataWrangler\n",
    "from final import Demo"
   ]
  },
  {
   "cell_type": "code",
   "execution_count": 2,
   "metadata": {},
   "outputs": [
    {
     "name": "stdout",
     "output_type": "stream",
     "text": [
      "3.6.8 |Anaconda custom (64-bit)| (default, Feb 21 2019, 18:30:04) [MSC v.1916 64 bit (AMD64)]\n"
     ]
    }
   ],
   "source": [
    "import sys\n",
    "print(sys.version)"
   ]
  },
  {
   "cell_type": "code",
   "execution_count": 4,
   "metadata": {},
   "outputs": [
    {
     "name": "stdout",
     "output_type": "stream",
     "text": [
      "Unzipping Data\n",
      "Unzipping: C:\\Users\\20181884\\Documents\\Y1Q4\\DBL\\DBL-DataChallenge\\demo\\zipped_data/airlines-1464618733587.zip\n",
      "Unzipping: C:\\Users\\20181884\\Documents\\Y1Q4\\DBL\\DBL-DataChallenge\\demo\\zipped_data/airlines-1464680391642.zip\n",
      "Extracting Data\n",
      "Loading file 1/2: airlines-1464618733587.json\n",
      "--JSONDecodeError at line: [304]--\n",
      "Loading file 2/2: airlines-1464680391642.json\n",
      "--JSONDecodeError at line: [5331]--\n",
      "Creating new features\n",
      "Getting sentiments\n",
      "Making plot\n"
     ]
    }
   ],
   "source": [
    "print('Unzipping Data')\n",
    "zipper = Unzipper(os.path.abspath('zipped_data'))\n",
    "zipper.unzip_all()\n",
    "\n",
    "print('Extracting Data')\n",
    "extractor = DataExtractor(directory='unzipped/', features=['id_str', 'text', 'created_at', ('user', 'id_str')])\n",
    "extractor.make_csv()\n",
    "\n",
    "print('Creating new features')\n",
    "wrangler = DataWrangler('extracted_data.csv')\n",
    "wrangler.full_wrangle()\n",
    "\n",
    "print('Making plot')\n",
    "demo = Demo('cleaned_data.csv')\n",
    "demo.sent_bar()"
   ]
  },
  {
   "cell_type": "markdown",
   "metadata": {
    "collapsed": true
   },
   "source": [
    "# Error Handling\n",
    "\n",
    "## Module not found?\n",
    "\n",
    "Open Anaconda Navigator, click \"Environments\" on the left, select \"uninstalled\", find the module you need to install and install it. This might take a long time.\n",
    "\n",
    "## LookupError for Stopwords\n",
    "\n",
    "Open command prompt, in this order:\n",
    "* pip install nltk\n",
    "* python\n",
    "* import nltk\n",
    "* nltk.download('punkt') #also install punkt you'll need it later.\n",
    "* nltk.download('stopwords')\n",
    "\n",
    "should be done! \n",
    "\n",
    "if you need another package,\n",
    "open console and type \n",
    "\n",
    "* import nltk\n",
    "* nltk.download()\n",
    "\n",
    "a window should show up, click on the tab corpora, scroll down, select \"stopwords\", press install.\n",
    "While your here, also install\n",
    "should be done\n",
    "\n",
    "## cuda error. Wrong cuda version at running time\n",
    "\n",
    "if windows -> find device manager, go to monitor adapters, select nvidia card, right click, update drivers, find drivers on the internet. Wait for it to download and install (takes a long time) restart your computer.\n",
    "\n",
    "if mac -> update your drivers, and enable cuda toolkit if that's needed. To be fair I have no clue."
   ]
  },
  {
   "cell_type": "code",
   "execution_count": null,
   "metadata": {
    "collapsed": true
   },
   "outputs": [],
   "source": []
  }
 ],
 "metadata": {
  "kernelspec": {
   "display_name": "Python 3",
   "language": "python",
   "name": "python3"
  },
  "language_info": {
   "codemirror_mode": {
    "name": "ipython",
    "version": 3
   },
   "file_extension": ".py",
   "mimetype": "text/x-python",
   "name": "python",
   "nbconvert_exporter": "python",
   "pygments_lexer": "ipython3",
   "version": "3.6.8"
  }
 },
 "nbformat": 4,
 "nbformat_minor": 2
}
