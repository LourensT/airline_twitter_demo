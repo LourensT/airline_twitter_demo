{
 "cells": [
  {
   "cell_type": "markdown",
   "metadata": {},
   "source": [
    "## Demo"
   ]
  },
  {
   "cell_type": "code",
   "execution_count": 1,
   "metadata": {},
   "outputs": [
    {
     "name": "stderr",
     "output_type": "stream",
     "text": [
      "/anaconda3/lib/python3.6/site-packages/h5py/__init__.py:36: FutureWarning: Conversion of the second argument of issubdtype from `float` to `np.floating` is deprecated. In future, it will be treated as `np.float64 == np.dtype(float).type`.\n",
      "  from ._conv import register_converters as _register_converters\n",
      "Using TensorFlow backend.\n"
     ]
    },
    {
     "name": "stdout",
     "output_type": "stream",
     "text": [
      "Starting Demo!\n",
      "Unzipping\n",
      "Unzipping: /Users/clepelaars/Desktop/airline_twitter_demo/zipped_data/airlines-1476166755485.json.zip\n",
      "Unzipping: /Users/clepelaars/Desktop/airline_twitter_demo/zipped_data/airlines-1475708016371.json.zip\n",
      "Unzipping: /Users/clepelaars/Desktop/airline_twitter_demo/zipped_data/airlines-1475141277526.json.zip\n",
      "Unzipping: /Users/clepelaars/Desktop/airline_twitter_demo/zipped_data/airlines-1490164094511.json.zip\n",
      "Unzipping: /Users/clepelaars/Desktop/airline_twitter_demo/zipped_data/airlines-1475196046400.json.zip\n",
      "Unzipping: /Users/clepelaars/Desktop/airline_twitter_demo/zipped_data/airlines-1464680391642.zip\n",
      "Unzipping: /Users/clepelaars/Desktop/airline_twitter_demo/zipped_data/airlines-1475075543370.json.zip\n",
      "Unzipping: /Users/clepelaars/Desktop/airline_twitter_demo/zipped_data/airlines-1475824852308.json.zip\n",
      "Unzipping: /Users/clepelaars/Desktop/airline_twitter_demo/zipped_data/airlines-1474964171409.json.zip\n",
      "Unzipping: /Users/clepelaars/Desktop/airline_twitter_demo/zipped_data/airlines-1464618733587.zip\n",
      "Unzipping: /Users/clepelaars/Desktop/airline_twitter_demo/zipped_data/airlines-1474888158417.json.zip\n",
      "Unzipping: /Users/clepelaars/Desktop/airline_twitter_demo/zipped_data/airlines-1488988992032.json.zip\n",
      "Extracting Data\n",
      "Loading file 1/12: airlines-1474964171409.json\n",
      "Loading file 2/12: airlines-1475708016371.json\n",
      "Loading file 3/12: airlines-1475075543370.json\n",
      "Loading file 4/12: airlines-1474888158417.json\n",
      "Loading file 5/12: airlines-1475141277526.json\n",
      "Loading file 6/12: airlines-1490164094511.json\n",
      "Loading file 7/12: airlines-1475196046400 (WIN02607's conflicted copy 2016-09-30).json\n",
      "Loading file 8/12: airlines-1476166755485.json\n",
      "Loading file 9/12: airlines-1488988992032.json\n",
      "Loading file 10/12: airlines-1475824852308.json\n",
      "Loading file 11/12: airlines-1464680391642.json\n",
      "Loading file 12/12: airlines-1464618733587.json\n",
      "Creating new features\n",
      "WARNING:tensorflow:From /anaconda3/lib/python3.6/site-packages/tensorflow/python/framework/op_def_library.py:263: colocate_with (from tensorflow.python.framework.ops) is deprecated and will be removed in a future version.\n",
      "Instructions for updating:\n",
      "Colocations handled automatically by placer.\n",
      "WARNING:tensorflow:From /anaconda3/lib/python3.6/site-packages/keras/backend/tensorflow_backend.py:3445: calling dropout (from tensorflow.python.ops.nn_ops) with keep_prob is deprecated and will be removed in a future version.\n",
      "Instructions for updating:\n",
      "Please use `rate` instead of `keep_prob`. Rate should be set to `rate = 1 - keep_prob`.\n",
      "WARNING:tensorflow:From /anaconda3/lib/python3.6/site-packages/tensorflow/python/ops/math_ops.py:3066: to_int32 (from tensorflow.python.ops.math_ops) is deprecated and will be removed in a future version.\n",
      "Instructions for updating:\n",
      "Use tf.cast instead.\n",
      "Getting sentiments\n",
      "Making plot\n"
     ]
    },
    {
     "data": {
      "text/plain": [
       "<matplotlib.figure.Figure at 0x1261011d0>"
      ]
     },
     "metadata": {},
     "output_type": "display_data"
    },
    {
     "data": {
      "text/plain": [
       "<matplotlib.figure.Figure at 0x137f58ef0>"
      ]
     },
     "metadata": {},
     "output_type": "display_data"
    }
   ],
   "source": [
    "# Demo class\n",
    "from final import Demo\n",
    "\n",
    "# Suppress warnings\n",
    "import warnings\n",
    "warnings.filterwarnings('ignore')\n",
    "warnings.simplefilter(\"ignore\", DeprecationWarning)\n",
    "warnings.filterwarnings(\"ignore\", category=DeprecationWarning)\n",
    "\n",
    "print('Starting Demo!')\n",
    "demo = Demo()\n",
    "demo.demo()"
   ]
  },
  {
   "cell_type": "markdown",
   "metadata": {
    "collapsed": true
   },
   "source": [
    "# Error Handling\n",
    "\n",
    "## Module not found?\n",
    "\n",
    "Open Anaconda Navigator, click \"Environments\" on the left, select \"uninstalled\", find the module you need to install and install it. This might take a long time.\n",
    "\n",
    "## LookupError for Stopwords\n",
    "\n",
    "Open command prompt, in this order:\n",
    "* pip install nltk\n",
    "* python\n",
    "* import nltk\n",
    "* nltk.download('punkt') #also install punkt you'll need it later.\n",
    "* nltk.download('stopwords')\n",
    "\n",
    "should be done! \n",
    "\n",
    "if you need another package,\n",
    "open console and type \n",
    "\n",
    "* import nltk\n",
    "* nltk.download()\n",
    "\n",
    "a window should show up, click on the tab corpora, scroll down, select \"stopwords\", press install.\n",
    "While your here, also install\n",
    "should be done\n",
    "\n",
    "## cuda error. Wrong cuda version at running time\n",
    "\n",
    "if windows -> find device manager, go to monitor adapters, select nvidia card, right click, update drivers, find drivers on the internet. Wait for it to download and install (takes a long time) restart your computer.\n",
    "\n",
    "if mac -> update your drivers, and enable cuda toolkit if that's needed. To be fair I have no clue."
   ]
  },
  {
   "cell_type": "code",
   "execution_count": 8,
   "metadata": {},
   "outputs": [
    {
     "name": "stdout",
     "output_type": "stream",
     "text": [
      "3.6.4 |Anaconda, Inc.| (default, Jan 16 2018, 12:04:33) \n",
      "[GCC 4.2.1 Compatible Clang 4.0.1 (tags/RELEASE_401/final)]\n"
     ]
    }
   ],
   "source": [
    "import sys\n",
    "print(sys.version)"
   ]
  }
 ],
 "metadata": {
  "kernelspec": {
   "display_name": "Python 3",
   "language": "python",
   "name": "python3"
  },
  "language_info": {
   "codemirror_mode": {
    "name": "ipython",
    "version": 3
   },
   "file_extension": ".py",
   "mimetype": "text/x-python",
   "name": "python",
   "nbconvert_exporter": "python",
   "pygments_lexer": "ipython3",
   "version": "3.6.4"
  }
 },
 "nbformat": 4,
 "nbformat_minor": 2
}
