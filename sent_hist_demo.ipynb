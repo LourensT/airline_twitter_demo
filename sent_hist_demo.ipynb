{
 "cells": [
  {
   "cell_type": "markdown",
   "metadata": {},
   "source": [
    "## Demo"
   ]
  },
  {
   "cell_type": "code",
   "execution_count": 1,
   "metadata": {},
   "outputs": [
    {
     "name": "stderr",
     "output_type": "stream",
     "text": [
      "Using TensorFlow backend.\n"
     ]
    },
    {
     "name": "stdout",
     "output_type": "stream",
     "text": [
      "Starting Demo!\n",
      "Unzipping\n",
      "Unzipping: C:\\Users\\20181884\\Documents\\Y1Q4\\DBL\\airline_twitter_demo\\zipped_data/airlines-1489821386831.json.zip\n",
      "Unzipping: C:\\Users\\20181884\\Documents\\Y1Q4\\DBL\\airline_twitter_demo\\zipped_data/airlines-1489901410616.json.zip\n",
      "Unzipping: C:\\Users\\20181884\\Documents\\Y1Q4\\DBL\\airline_twitter_demo\\zipped_data/airlines-1489994327829.json.zip\n",
      "Unzipping: C:\\Users\\20181884\\Documents\\Y1Q4\\DBL\\airline_twitter_demo\\zipped_data/airlines-1490084215602.json.zip\n",
      "Unzipping: C:\\Users\\20181884\\Documents\\Y1Q4\\DBL\\airline_twitter_demo\\zipped_data/airlines-1490164094511.json.zip\n",
      "Unzipping: C:\\Users\\20181884\\Documents\\Y1Q4\\DBL\\airline_twitter_demo\\zipped_data/airlines-1490222308370.json.zip\n",
      "Unzipping: C:\\Users\\20181884\\Documents\\Y1Q4\\DBL\\airline_twitter_demo\\zipped_data/airlines-1490320714831.json.zip\n",
      "Unzipping: C:\\Users\\20181884\\Documents\\Y1Q4\\DBL\\airline_twitter_demo\\zipped_data/airlines-1490391325446.json.zip\n",
      "Unzipping: C:\\Users\\20181884\\Documents\\Y1Q4\\DBL\\airline_twitter_demo\\zipped_data/airlines-1490526807148.json.zip\n",
      "Unzipping: C:\\Users\\20181884\\Documents\\Y1Q4\\DBL\\airline_twitter_demo\\zipped_data/airlines-1490607682334.json.zip\n",
      "Unzipping: C:\\Users\\20181884\\Documents\\Y1Q4\\DBL\\airline_twitter_demo\\zipped_data/airlines-1490648187773.json.zip\n",
      "Unzipping: C:\\Users\\20181884\\Documents\\Y1Q4\\DBL\\airline_twitter_demo\\zipped_data/airlines-1490714864176.json.zip\n",
      "Unzipping: C:\\Users\\20181884\\Documents\\Y1Q4\\DBL\\airline_twitter_demo\\zipped_data/airlines-1490787099697.json.zip\n",
      "Extracting Data\n",
      "Loading file 1/13: airlines-1489821386831.json\n",
      "Loading file 2/13: airlines-1489901410616.json\n",
      "Loading file 3/13: airlines-1489994327829.json\n",
      "Loading file 4/13: airlines-1490084215602.json\n",
      "Loading file 5/13: airlines-1490164094511.json\n",
      "Loading file 6/13: airlines-1490222308370.json\n",
      "Loading file 7/13: airlines-1490320714831.json\n",
      "Loading file 8/13: airlines-1490391325446.json\n",
      "Loading file 9/13: airlines-1490526807148.json\n",
      "Loading file 10/13: airlines-1490607682334.json\n",
      "Loading file 11/13: airlines-1490648187773.json\n",
      "Loading file 12/13: airlines-1490714864176.json\n",
      "Loading file 13/13: airlines-1490787099697.json\n",
      "Creating new features\n",
      "WARNING:tensorflow:From C:\\ProgramData\\Anaconda3\\lib\\site-packages\\tensorflow\\python\\framework\\op_def_library.py:263: colocate_with (from tensorflow.python.framework.ops) is deprecated and will be removed in a future version.\n",
      "Instructions for updating:\n",
      "Colocations handled automatically by placer.\n",
      "WARNING:tensorflow:From C:\\ProgramData\\Anaconda3\\lib\\site-packages\\keras\\backend\\tensorflow_backend.py:3445: calling dropout (from tensorflow.python.ops.nn_ops) with keep_prob is deprecated and will be removed in a future version.\n",
      "Instructions for updating:\n",
      "Please use `rate` instead of `keep_prob`. Rate should be set to `rate = 1 - keep_prob`.\n",
      "WARNING:tensorflow:From C:\\ProgramData\\Anaconda3\\lib\\site-packages\\tensorflow\\python\\ops\\math_ops.py:3066: to_int32 (from tensorflow.python.ops.math_ops) is deprecated and will be removed in a future version.\n",
      "Instructions for updating:\n",
      "Use tf.cast instead.\n",
      "Making plot\n"
     ]
    }
   ],
   "source": [
    "# Demo class\n",
    "from final import Demo\n",
    "\n",
    "# Suppress warnings\n",
    "import warnings\n",
    "warnings.filterwarnings('ignore')\n",
    "warnings.simplefilter(\"ignore\", DeprecationWarning)\n",
    "warnings.filterwarnings(\"ignore\", category=DeprecationWarning)\n",
    "\n",
    "print('Starting Demo!')\n",
    "demo = Demo()\n",
    "demo.demo_replytime()"
   ]
  },
  {
   "cell_type": "markdown",
   "metadata": {
    "collapsed": true
   },
   "source": [
    "# Error Handling\n",
    "\n",
    "## Module not found?\n",
    "\n",
    "Open Anaconda Navigator, click \"Environments\" on the left, select \"uninstalled\", find the module you need to install and install it. This might take a long time.\n",
    "\n",
    "## LookupError for Stopwords\n",
    "\n",
    "Open command prompt, in this order:\n",
    "* pip install nltk\n",
    "* python\n",
    "* import nltk\n",
    "* nltk.download('punkt') #also install punkt you'll need it later.\n",
    "* nltk.download('stopwords')\n",
    "\n",
    "should be done! \n",
    "\n",
    "if you need another package,\n",
    "open console and type \n",
    "\n",
    "* import nltk\n",
    "* nltk.download()\n",
    "\n",
    "a window should show up, click on the tab corpora, scroll down, select \"stopwords\", press install.\n",
    "While your here, also install\n",
    "should be done\n",
    "\n",
    "## cuda error. Wrong cuda version at running time\n",
    "\n",
    "if windows -> find device manager, go to monitor adapters, select nvidia card, right click, update drivers, find drivers on the internet. Wait for it to download and install (takes a long time) restart your computer.\n",
    "\n",
    "if mac -> update your drivers, and enable cuda toolkit if that's needed. To be fair I have no clue."
   ]
  },
  {
   "cell_type": "code",
   "execution_count": 8,
   "metadata": {},
   "outputs": [
    {
     "name": "stdout",
     "output_type": "stream",
     "text": [
      "3.6.4 |Anaconda, Inc.| (default, Jan 16 2018, 12:04:33) \n",
      "[GCC 4.2.1 Compatible Clang 4.0.1 (tags/RELEASE_401/final)]\n"
     ]
    }
   ],
   "source": [
    "import sys\n",
    "print(sys.version)"
   ]
  }
 ],
 "metadata": {
  "kernelspec": {
   "display_name": "Python 3",
   "language": "python",
   "name": "python3"
  },
  "language_info": {
   "codemirror_mode": {
    "name": "ipython",
    "version": 3
   },
   "file_extension": ".py",
   "mimetype": "text/x-python",
   "name": "python",
   "nbconvert_exporter": "python",
   "pygments_lexer": "ipython3",
   "version": "3.6.8"
  }
 },
 "nbformat": 4,
 "nbformat_minor": 2
}
