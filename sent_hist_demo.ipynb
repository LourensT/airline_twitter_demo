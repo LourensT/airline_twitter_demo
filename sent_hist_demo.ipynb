{
 "cells": [
  {
   "cell_type": "markdown",
   "metadata": {},
   "source": [
    "## Demo"
   ]
  },
  {
   "cell_type": "code",
   "execution_count": 1,
   "metadata": {},
   "outputs": [
    {
     "name": "stderr",
     "output_type": "stream",
     "text": [
      "Using TensorFlow backend.\n"
     ]
    },
    {
     "name": "stdout",
     "output_type": "stream",
     "text": [
      "Starting Demo!\n",
      "Unzipping\n",
      "Unzipping: C:\\Users\\20181884\\Documents\\Y1Q4\\DBL\\airline_twitter_demo\\zipped_data/airlines-1464618733587.zip\n",
      "Unzipping: C:\\Users\\20181884\\Documents\\Y1Q4\\DBL\\airline_twitter_demo\\zipped_data/airlines-1464680391642.zip\n",
      "Extracting Data\n",
      "Loading file 1/2: airlines-1464618733587.json\n",
      "Loading file 2/2: airlines-1464680391642.json\n",
      "Creating new features\n",
      "WARNING:tensorflow:From C:\\ProgramData\\Anaconda3\\lib\\site-packages\\tensorflow\\python\\framework\\op_def_library.py:263: colocate_with (from tensorflow.python.framework.ops) is deprecated and will be removed in a future version.\n",
      "Instructions for updating:\n",
      "Colocations handled automatically by placer.\n",
      "WARNING:tensorflow:From C:\\ProgramData\\Anaconda3\\lib\\site-packages\\keras\\backend\\tensorflow_backend.py:3445: calling dropout (from tensorflow.python.ops.nn_ops) with keep_prob is deprecated and will be removed in a future version.\n",
      "Instructions for updating:\n",
      "Please use `rate` instead of `keep_prob`. Rate should be set to `rate = 1 - keep_prob`.\n",
      "WARNING:tensorflow:From C:\\ProgramData\\Anaconda3\\lib\\site-packages\\tensorflow\\python\\ops\\math_ops.py:3066: to_int32 (from tensorflow.python.ops.math_ops) is deprecated and will be removed in a future version.\n",
      "Instructions for updating:\n",
      "Use tf.cast instead.\n",
      "Getting sentiments\n",
      "Making plot\n"
     ]
    }
   ],
   "source": [
    "# Demo class\n",
    "from final import Demo\n",
    "\n",
    "# Suppress warnings\n",
    "import warnings\n",
    "warnings.filterwarnings('ignore')\n",
    "warnings.simplefilter(\"ignore\", DeprecationWarning)\n",
    "warnings.filterwarnings(\"ignore\", category=DeprecationWarning)\n",
    "\n",
    "print('Starting Demo!')\n",
    "demo = Demo()\n",
    "demo.demo()"
   ]
  },
  {
   "cell_type": "markdown",
   "metadata": {
    "collapsed": true
   },
   "source": [
    "# Error Handling\n",
    "\n",
    "## Module not found?\n",
    "\n",
    "Open Anaconda Navigator, click \"Environments\" on the left, select \"uninstalled\", find the module you need to install and install it. This might take a long time.\n",
    "\n",
    "## LookupError for Stopwords\n",
    "\n",
    "Open command prompt, in this order:\n",
    "* pip install nltk\n",
    "* python\n",
    "* import nltk\n",
    "* nltk.download('punkt') #also install punkt you'll need it later.\n",
    "* nltk.download('stopwords')\n",
    "\n",
    "should be done! \n",
    "\n",
    "if you need another package,\n",
    "open console and type \n",
    "\n",
    "* import nltk\n",
    "* nltk.download()\n",
    "\n",
    "a window should show up, click on the tab corpora, scroll down, select \"stopwords\", press install.\n",
    "While your here, also install\n",
    "should be done\n",
    "\n",
    "## cuda error. Wrong cuda version at running time\n",
    "\n",
    "if windows -> find device manager, go to monitor adapters, select nvidia card, right click, update drivers, find drivers on the internet. Wait for it to download and install (takes a long time) restart your computer.\n",
    "\n",
    "if mac -> update your drivers, and enable cuda toolkit if that's needed. To be fair I have no clue."
   ]
  },
  {
   "cell_type": "code",
   "execution_count": 8,
   "metadata": {},
   "outputs": [
    {
     "name": "stdout",
     "output_type": "stream",
     "text": [
      "3.6.4 |Anaconda, Inc.| (default, Jan 16 2018, 12:04:33) \n",
      "[GCC 4.2.1 Compatible Clang 4.0.1 (tags/RELEASE_401/final)]\n"
     ]
    }
   ],
   "source": [
    "import sys\n",
    "print(sys.version)"
   ]
  }
 ],
 "metadata": {
  "kernelspec": {
   "display_name": "Python 3",
   "language": "python",
   "name": "python3"
  },
  "language_info": {
   "codemirror_mode": {
    "name": "ipython",
    "version": 3
   },
   "file_extension": ".py",
   "mimetype": "text/x-python",
   "name": "python",
   "nbconvert_exporter": "python",
   "pygments_lexer": "ipython3",
   "version": "3.6.8"
  }
 },
 "nbformat": 4,
 "nbformat_minor": 2
}
